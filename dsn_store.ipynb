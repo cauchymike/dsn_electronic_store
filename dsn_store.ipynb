{
 "cells": [
  {
   "cell_type": "code",
   "execution_count": 1,
   "metadata": {},
   "outputs": [],
   "source": [
    "#importing required libraries\n",
    "import numpy as np\n",
    "import pandas as pd\n",
    "import matplotlib.pyplot as plt\n",
    "%matplotlib inline\n",
    "import warnings\n",
    "import seaborn as sns"
   ]
  },
  {
   "cell_type": "code",
   "execution_count": 42,
   "metadata": {},
   "outputs": [],
   "source": [
    "#loading the dataset\n",
    "df_train = pd.read_csv('trainstore.csv')"
   ]
  },
  {
   "cell_type": "code",
   "execution_count": 43,
   "metadata": {},
   "outputs": [],
   "source": [
    "df_test = pd.read_csv('testtsore.csv')"
   ]
  },
  {
   "cell_type": "code",
   "execution_count": 7,
   "metadata": {},
   "outputs": [
    {
     "data": {
      "text/plain": [
       "((4990, 13), (3532, 12))"
      ]
     },
     "execution_count": 7,
     "metadata": {},
     "output_type": "execute_result"
    }
   ],
   "source": [
    "df_train.shape, df_test.shape"
   ]
  },
  {
   "cell_type": "code",
   "execution_count": 15,
   "metadata": {
    "scrolled": true
   },
   "outputs": [
    {
     "data": {
      "text/html": [
       "<div>\n",
       "<style scoped>\n",
       "    .dataframe tbody tr th:only-of-type {\n",
       "        vertical-align: middle;\n",
       "    }\n",
       "\n",
       "    .dataframe tbody tr th {\n",
       "        vertical-align: top;\n",
       "    }\n",
       "\n",
       "    .dataframe thead th {\n",
       "        text-align: right;\n",
       "    }\n",
       "</style>\n",
       "<table border=\"1\" class=\"dataframe\">\n",
       "  <thead>\n",
       "    <tr style=\"text-align: right;\">\n",
       "      <th></th>\n",
       "      <th>Item_ID</th>\n",
       "      <th>Store_ID</th>\n",
       "      <th>Item_Store_ID</th>\n",
       "      <th>Item_Weight</th>\n",
       "      <th>Item_Sugar_Content</th>\n",
       "      <th>Item_Visibility</th>\n",
       "      <th>Item_Type</th>\n",
       "      <th>Item_Price</th>\n",
       "      <th>Store_Start_Year</th>\n",
       "      <th>Store_Size</th>\n",
       "      <th>Store_Location_Type</th>\n",
       "      <th>Store_Type</th>\n",
       "      <th>Item_Store_Returns</th>\n",
       "    </tr>\n",
       "  </thead>\n",
       "  <tbody>\n",
       "    <tr>\n",
       "      <th>376</th>\n",
       "      <td>DRL49</td>\n",
       "      <td>BABATUNJI035</td>\n",
       "      <td>DRL49_BABATUNJI035</td>\n",
       "      <td>13.15</td>\n",
       "      <td>Low Sugar</td>\n",
       "      <td>0.056418</td>\n",
       "      <td>Soft Drinks</td>\n",
       "      <td>356.20</td>\n",
       "      <td>2011</td>\n",
       "      <td>Small</td>\n",
       "      <td>Cluster 2</td>\n",
       "      <td>Supermarket Type1</td>\n",
       "      <td>6055.45</td>\n",
       "    </tr>\n",
       "    <tr>\n",
       "      <th>3592</th>\n",
       "      <td>FDX31</td>\n",
       "      <td>BABATUNJI035</td>\n",
       "      <td>FDX31_BABATUNJI035</td>\n",
       "      <td>20.35</td>\n",
       "      <td>Normal Sugar</td>\n",
       "      <td>0.014823</td>\n",
       "      <td>Fruits and Vegetables</td>\n",
       "      <td>585.24</td>\n",
       "      <td>2011</td>\n",
       "      <td>Small</td>\n",
       "      <td>Cluster 2</td>\n",
       "      <td>Supermarket Type1</td>\n",
       "      <td>6426.63</td>\n",
       "    </tr>\n",
       "    <tr>\n",
       "      <th>2131</th>\n",
       "      <td>FDN46</td>\n",
       "      <td>BABATUNJI049</td>\n",
       "      <td>FDN46_BABATUNJI049</td>\n",
       "      <td>7.21</td>\n",
       "      <td>Normal Sugar</td>\n",
       "      <td>0.144856</td>\n",
       "      <td>Snack Foods</td>\n",
       "      <td>251.33</td>\n",
       "      <td>2006</td>\n",
       "      <td>Medium</td>\n",
       "      <td>Cluster 1</td>\n",
       "      <td>Supermarket Type1</td>\n",
       "      <td>2819.66</td>\n",
       "    </tr>\n",
       "    <tr>\n",
       "      <th>1294</th>\n",
       "      <td>FDG33</td>\n",
       "      <td>BABATUNJI019</td>\n",
       "      <td>FDG33_BABATUNJI019</td>\n",
       "      <td>NaN</td>\n",
       "      <td>Normal Sugar</td>\n",
       "      <td>0.245543</td>\n",
       "      <td>Seafood</td>\n",
       "      <td>430.69</td>\n",
       "      <td>1992</td>\n",
       "      <td>Small</td>\n",
       "      <td>Cluster 1</td>\n",
       "      <td>Grocery Store</td>\n",
       "      <td>429.44</td>\n",
       "    </tr>\n",
       "    <tr>\n",
       "      <th>4401</th>\n",
       "      <td>NCL31</td>\n",
       "      <td>BABATUNJI017</td>\n",
       "      <td>NCL31_BABATUNJI017</td>\n",
       "      <td>7.39</td>\n",
       "      <td>Low Sugar</td>\n",
       "      <td>0.120961</td>\n",
       "      <td>Others</td>\n",
       "      <td>359.62</td>\n",
       "      <td>2014</td>\n",
       "      <td>NaN</td>\n",
       "      <td>Cluster 2</td>\n",
       "      <td>Supermarket Type1</td>\n",
       "      <td>12167.50</td>\n",
       "    </tr>\n",
       "    <tr>\n",
       "      <th>1344</th>\n",
       "      <td>FDH05</td>\n",
       "      <td>BABATUNJI045</td>\n",
       "      <td>FDH05_BABATUNJI045</td>\n",
       "      <td>14.35</td>\n",
       "      <td>Normal Sugar</td>\n",
       "      <td>0.091098</td>\n",
       "      <td>Frozen Foods</td>\n",
       "      <td>584.00</td>\n",
       "      <td>2009</td>\n",
       "      <td>NaN</td>\n",
       "      <td>Cluster 2</td>\n",
       "      <td>Supermarket Type1</td>\n",
       "      <td>4633.97</td>\n",
       "    </tr>\n",
       "    <tr>\n",
       "      <th>2155</th>\n",
       "      <td>FDN60</td>\n",
       "      <td>BABATUNJI019</td>\n",
       "      <td>FDN60_BABATUNJI019</td>\n",
       "      <td>NaN</td>\n",
       "      <td>Low Sugar</td>\n",
       "      <td>0.166610</td>\n",
       "      <td>Baking Goods</td>\n",
       "      <td>394.15</td>\n",
       "      <td>1992</td>\n",
       "      <td>Small</td>\n",
       "      <td>Cluster 1</td>\n",
       "      <td>Grocery Store</td>\n",
       "      <td>792.30</td>\n",
       "    </tr>\n",
       "    <tr>\n",
       "      <th>2704</th>\n",
       "      <td>FDR56</td>\n",
       "      <td>BABATUNJI049</td>\n",
       "      <td>FDR56_BABATUNJI049</td>\n",
       "      <td>15.50</td>\n",
       "      <td>Normal Sugar</td>\n",
       "      <td>0.100923</td>\n",
       "      <td>Fruits and Vegetables</td>\n",
       "      <td>497.69</td>\n",
       "      <td>2006</td>\n",
       "      <td>Medium</td>\n",
       "      <td>Cluster 1</td>\n",
       "      <td>Supermarket Type1</td>\n",
       "      <td>6897.69</td>\n",
       "    </tr>\n",
       "    <tr>\n",
       "      <th>3428</th>\n",
       "      <td>FDW31</td>\n",
       "      <td>BABATUNJI017</td>\n",
       "      <td>FDW31_BABATUNJI017</td>\n",
       "      <td>11.35</td>\n",
       "      <td>Normal Sugar</td>\n",
       "      <td>0.043402</td>\n",
       "      <td>Fruits and Vegetables</td>\n",
       "      <td>492.69</td>\n",
       "      <td>2014</td>\n",
       "      <td>NaN</td>\n",
       "      <td>Cluster 2</td>\n",
       "      <td>Supermarket Type1</td>\n",
       "      <td>6469.91</td>\n",
       "    </tr>\n",
       "    <tr>\n",
       "      <th>1364</th>\n",
       "      <td>FDH17</td>\n",
       "      <td>BABATUNJI046</td>\n",
       "      <td>FDH17_BABATUNJI046</td>\n",
       "      <td>16.20</td>\n",
       "      <td>Normal Sugar</td>\n",
       "      <td>0.016653</td>\n",
       "      <td>Frozen Foods</td>\n",
       "      <td>243.43</td>\n",
       "      <td>2004</td>\n",
       "      <td>Small</td>\n",
       "      <td>Cluster 1</td>\n",
       "      <td>Supermarket Type1</td>\n",
       "      <td>5138.31</td>\n",
       "    </tr>\n",
       "  </tbody>\n",
       "</table>\n",
       "</div>"
      ],
      "text/plain": [
       "     Item_ID      Store_ID       Item_Store_ID  Item_Weight  \\\n",
       "376    DRL49  BABATUNJI035  DRL49_BABATUNJI035        13.15   \n",
       "3592   FDX31  BABATUNJI035  FDX31_BABATUNJI035        20.35   \n",
       "2131   FDN46  BABATUNJI049  FDN46_BABATUNJI049         7.21   \n",
       "1294   FDG33  BABATUNJI019  FDG33_BABATUNJI019          NaN   \n",
       "4401   NCL31  BABATUNJI017  NCL31_BABATUNJI017         7.39   \n",
       "1344   FDH05  BABATUNJI045  FDH05_BABATUNJI045        14.35   \n",
       "2155   FDN60  BABATUNJI019  FDN60_BABATUNJI019          NaN   \n",
       "2704   FDR56  BABATUNJI049  FDR56_BABATUNJI049        15.50   \n",
       "3428   FDW31  BABATUNJI017  FDW31_BABATUNJI017        11.35   \n",
       "1364   FDH17  BABATUNJI046  FDH17_BABATUNJI046        16.20   \n",
       "\n",
       "     Item_Sugar_Content  Item_Visibility              Item_Type  Item_Price  \\\n",
       "376           Low Sugar         0.056418            Soft Drinks      356.20   \n",
       "3592       Normal Sugar         0.014823  Fruits and Vegetables      585.24   \n",
       "2131       Normal Sugar         0.144856            Snack Foods      251.33   \n",
       "1294       Normal Sugar         0.245543                Seafood      430.69   \n",
       "4401          Low Sugar         0.120961                 Others      359.62   \n",
       "1344       Normal Sugar         0.091098           Frozen Foods      584.00   \n",
       "2155          Low Sugar         0.166610           Baking Goods      394.15   \n",
       "2704       Normal Sugar         0.100923  Fruits and Vegetables      497.69   \n",
       "3428       Normal Sugar         0.043402  Fruits and Vegetables      492.69   \n",
       "1364       Normal Sugar         0.016653           Frozen Foods      243.43   \n",
       "\n",
       "      Store_Start_Year Store_Size Store_Location_Type         Store_Type  \\\n",
       "376               2011      Small           Cluster 2  Supermarket Type1   \n",
       "3592              2011      Small           Cluster 2  Supermarket Type1   \n",
       "2131              2006     Medium           Cluster 1  Supermarket Type1   \n",
       "1294              1992      Small           Cluster 1      Grocery Store   \n",
       "4401              2014        NaN           Cluster 2  Supermarket Type1   \n",
       "1344              2009        NaN           Cluster 2  Supermarket Type1   \n",
       "2155              1992      Small           Cluster 1      Grocery Store   \n",
       "2704              2006     Medium           Cluster 1  Supermarket Type1   \n",
       "3428              2014        NaN           Cluster 2  Supermarket Type1   \n",
       "1364              2004      Small           Cluster 1  Supermarket Type1   \n",
       "\n",
       "      Item_Store_Returns  \n",
       "376              6055.45  \n",
       "3592             6426.63  \n",
       "2131             2819.66  \n",
       "1294              429.44  \n",
       "4401            12167.50  \n",
       "1344             4633.97  \n",
       "2155              792.30  \n",
       "2704             6897.69  \n",
       "3428             6469.91  \n",
       "1364             5138.31  "
      ]
     },
     "execution_count": 15,
     "metadata": {},
     "output_type": "execute_result"
    }
   ],
   "source": [
    "df_train.sample(10)"
   ]
  },
  {
   "cell_type": "code",
   "execution_count": 11,
   "metadata": {
    "scrolled": true
   },
   "outputs": [
    {
     "name": "stdout",
     "output_type": "stream",
     "text": [
      "<class 'pandas.core.frame.DataFrame'>\n",
      "RangeIndex: 4990 entries, 0 to 4989\n",
      "Data columns (total 13 columns):\n",
      " #   Column               Non-Null Count  Dtype  \n",
      "---  ------               --------------  -----  \n",
      " 0   Item_ID              4990 non-null   object \n",
      " 1   Store_ID             4990 non-null   object \n",
      " 2   Item_Store_ID        4990 non-null   object \n",
      " 3   Item_Weight          4188 non-null   float64\n",
      " 4   Item_Sugar_Content   4990 non-null   object \n",
      " 5   Item_Visibility      4990 non-null   float64\n",
      " 6   Item_Type            4990 non-null   object \n",
      " 7   Item_Price           4990 non-null   float64\n",
      " 8   Store_Start_Year     4990 non-null   int64  \n",
      " 9   Store_Size           3540 non-null   object \n",
      " 10  Store_Location_Type  4990 non-null   object \n",
      " 11  Store_Type           4990 non-null   object \n",
      " 12  Item_Store_Returns   4990 non-null   float64\n",
      "dtypes: float64(4), int64(1), object(8)\n",
      "memory usage: 506.9+ KB\n"
     ]
    }
   ],
   "source": [
    "df_train.info()"
   ]
  },
  {
   "cell_type": "code",
   "execution_count": 12,
   "metadata": {},
   "outputs": [
    {
     "name": "stdout",
     "output_type": "stream",
     "text": [
      "<class 'pandas.core.frame.DataFrame'>\n",
      "RangeIndex: 3532 entries, 0 to 3531\n",
      "Data columns (total 12 columns):\n",
      " #   Column               Non-Null Count  Dtype  \n",
      "---  ------               --------------  -----  \n",
      " 0   Item_ID              3532 non-null   object \n",
      " 1   Store_ID             3532 non-null   object \n",
      " 2   Item_Store_ID        3532 non-null   object \n",
      " 3   Item_Weight          2871 non-null   float64\n",
      " 4   Item_Sugar_Content   3532 non-null   object \n",
      " 5   Item_Visibility      3532 non-null   float64\n",
      " 6   Item_Type            3532 non-null   object \n",
      " 7   Item_Price           3532 non-null   float64\n",
      " 8   Store_Start_Year     3532 non-null   int64  \n",
      " 9   Store_Size           2573 non-null   object \n",
      " 10  Store_Location_Type  3532 non-null   object \n",
      " 11  Store_Type           3532 non-null   object \n",
      "dtypes: float64(3), int64(1), object(8)\n",
      "memory usage: 331.2+ KB\n"
     ]
    }
   ],
   "source": [
    "df_test.info()"
   ]
  },
  {
   "cell_type": "code",
   "execution_count": 9,
   "metadata": {
    "scrolled": true
   },
   "outputs": [
    {
     "data": {
      "text/plain": [
       "Item_ID                1451\n",
       "Store_ID                 10\n",
       "Item_Store_ID          4990\n",
       "Item_Weight             399\n",
       "Item_Sugar_Content        3\n",
       "Item_Visibility        4638\n",
       "Item_Type                16\n",
       "Item_Price             3522\n",
       "Store_Start_Year          9\n",
       "Store_Size                3\n",
       "Store_Location_Type       3\n",
       "Store_Type                4\n",
       "Item_Store_Returns     2686\n",
       "dtype: int64"
      ]
     },
     "execution_count": 9,
     "metadata": {},
     "output_type": "execute_result"
    }
   ],
   "source": [
    "#lets get number of unique items\n",
    "df_train.nunique()"
   ]
  },
  {
   "cell_type": "code",
   "execution_count": 74,
   "metadata": {
    "scrolled": true
   },
   "outputs": [
    {
     "data": {
      "text/plain": [
       "Text(0.5, 1.0, 'Dsitribution of Returns')"
      ]
     },
     "execution_count": 74,
     "metadata": {},
     "output_type": "execute_result"
    },
    {
     "data": {
      "image/png": "[encoded data removed]",
      "text/plain": [
       "<Figure size 1440x720 with 1 Axes>"
      ]
     },
     "metadata": {
      "needs_background": "light"
     },
     "output_type": "display_data"
    }
   ],
   "source": [
    "f,ax=plt.subplots(figsize = (20, 10))\n",
    "sns.distplot(df_train['Item_Store_Returns'])\n",
    "plt.title('Dsitribution of Returns')"
   ]
  },
  {
   "cell_type": "code",
   "execution_count": 44,
   "metadata": {},
   "outputs": [],
   "source": [
    "categorical_features = df_train.select_dtypes(include = ['object'])\n",
    "numerical_features = df_train.select_dtypes(include = [np.number])\n",
    "categorical_list = categorical_features.columns.tolist()                                        \n",
    "numerical_list =  numerical_features.columns.tolist()   "
   ]
  },
  {
   "cell_type": "code",
   "execution_count": 45,
   "metadata": {},
   "outputs": [],
   "source": [
    "categorical_features_test = df_test.select_dtypes(include = ['object'])\n",
    "numerical_features_test = df_test.select_dtypes(include = [np.number])\n",
    "categorical_list_test = categorical_features.columns.tolist()                                        \n",
    "numerical_list_test =  numerical_features_test.columns.tolist()  "
   ]
  },
  {
   "cell_type": "code",
   "execution_count": 46,
   "metadata": {},
   "outputs": [],
   "source": [
    "df_train[\"Item_Weight\"].fillna(df_train['Item_Weight'].mode()[0], inplace = True)"
   ]
  },
  {
   "cell_type": "code",
   "execution_count": 47,
   "metadata": {},
   "outputs": [],
   "source": [
    "df_test[\"Item_Weight\"].fillna(df_train['Item_Weight'].mode()[0], inplace = True)"
   ]
  },
  {
   "cell_type": "code",
   "execution_count": 48,
   "metadata": {},
   "outputs": [],
   "source": [
    "df_train[\"Store_Size\"].fillna(df_train['Store_Size'].mode()[0], inplace = True)"
   ]
  },
  {
   "cell_type": "code",
   "execution_count": 49,
   "metadata": {},
   "outputs": [],
   "source": [
    "df_test[\"Store_Size\"].fillna(df_train['Store_Size'].mode()[0], inplace = True)"
   ]
  },
  {
   "cell_type": "code",
   "execution_count": 55,
   "metadata": {},
   "outputs": [],
   "source": [
    "df_train[\"store_id_num\"] = df_train[\"Store_ID\"].str.replace('([A-Za-z]+)','')\n",
    "df_train[\"item_num\"] = df_train['Item_ID'].str.replace('([A-Za-z]+)', '')"
   ]
  },
  {
   "cell_type": "code",
   "execution_count": 56,
   "metadata": {},
   "outputs": [],
   "source": [
    "df_train[\"store_id_num\"] = df_train[\"store_id_num\"].astype(float)\n",
    "df_train[\"item_num\"] = df_train['item_num'].astype(float)"
   ]
  },
  {
   "cell_type": "code",
   "execution_count": 58,
   "metadata": {},
   "outputs": [],
   "source": [
    "df_test[\"store_id_num\"] = df_test[\"Store_ID\"].str.replace('([A-Za-z]+)','')\n",
    "df_test[\"item_num\"] = df_test['Item_ID'].str.replace('([A-Za-z]+)', '')"
   ]
  },
  {
   "cell_type": "code",
   "execution_count": 60,
   "metadata": {},
   "outputs": [],
   "source": [
    "df_test[\"store_id_num\"] = df_train[\"store_id_num\"].astype(float)\n",
    "df_test[\"item_num\"] = df_train['item_num'].astype(float)"
   ]
  },
  {
   "cell_type": "code",
   "execution_count": 21,
   "metadata": {},
   "outputs": [],
   "source": [
    "def missing_values(dataframe):\n",
    "    \"\"\"\n",
    "    This function takes a dataframe as input and returns two columns... total missing values and their percentage\n",
    "    \"\"\"\n",
    "    total = dataframe.isnull().sum().sort_values(ascending = False)\n",
    "    percent = round(total/len(dataframe)*100, 2)\n",
    "    return pd.concat([total, percent], axis = 1, keys = ['Total Missing', '%Percentage'])"
   ]
  },
  {
   "cell_type": "code",
   "execution_count": 22,
   "metadata": {
    "scrolled": true
   },
   "outputs": [
    {
     "data": {
      "text/html": [
       "<div>\n",
       "<style scoped>\n",
       "    .dataframe tbody tr th:only-of-type {\n",
       "        vertical-align: middle;\n",
       "    }\n",
       "\n",
       "    .dataframe tbody tr th {\n",
       "        vertical-align: top;\n",
       "    }\n",
       "\n",
       "    .dataframe thead th {\n",
       "        text-align: right;\n",
       "    }\n",
       "</style>\n",
       "<table border=\"1\" class=\"dataframe\">\n",
       "  <thead>\n",
       "    <tr style=\"text-align: right;\">\n",
       "      <th></th>\n",
       "      <th>Total Missing</th>\n",
       "      <th>%Percentage</th>\n",
       "    </tr>\n",
       "  </thead>\n",
       "  <tbody>\n",
       "    <tr>\n",
       "      <th>Item_Store_Returns</th>\n",
       "      <td>0</td>\n",
       "      <td>0.0</td>\n",
       "    </tr>\n",
       "    <tr>\n",
       "      <th>Store_Type</th>\n",
       "      <td>0</td>\n",
       "      <td>0.0</td>\n",
       "    </tr>\n",
       "    <tr>\n",
       "      <th>Store_Location_Type</th>\n",
       "      <td>0</td>\n",
       "      <td>0.0</td>\n",
       "    </tr>\n",
       "    <tr>\n",
       "      <th>Store_Size</th>\n",
       "      <td>0</td>\n",
       "      <td>0.0</td>\n",
       "    </tr>\n",
       "    <tr>\n",
       "      <th>Store_Start_Year</th>\n",
       "      <td>0</td>\n",
       "      <td>0.0</td>\n",
       "    </tr>\n",
       "    <tr>\n",
       "      <th>Item_Price</th>\n",
       "      <td>0</td>\n",
       "      <td>0.0</td>\n",
       "    </tr>\n",
       "    <tr>\n",
       "      <th>Item_Type</th>\n",
       "      <td>0</td>\n",
       "      <td>0.0</td>\n",
       "    </tr>\n",
       "    <tr>\n",
       "      <th>Item_Visibility</th>\n",
       "      <td>0</td>\n",
       "      <td>0.0</td>\n",
       "    </tr>\n",
       "    <tr>\n",
       "      <th>Item_Sugar_Content</th>\n",
       "      <td>0</td>\n",
       "      <td>0.0</td>\n",
       "    </tr>\n",
       "    <tr>\n",
       "      <th>Item_Weight</th>\n",
       "      <td>0</td>\n",
       "      <td>0.0</td>\n",
       "    </tr>\n",
       "    <tr>\n",
       "      <th>Item_Store_ID</th>\n",
       "      <td>0</td>\n",
       "      <td>0.0</td>\n",
       "    </tr>\n",
       "    <tr>\n",
       "      <th>Store_ID</th>\n",
       "      <td>0</td>\n",
       "      <td>0.0</td>\n",
       "    </tr>\n",
       "    <tr>\n",
       "      <th>Item_ID</th>\n",
       "      <td>0</td>\n",
       "      <td>0.0</td>\n",
       "    </tr>\n",
       "  </tbody>\n",
       "</table>\n",
       "</div>"
      ],
      "text/plain": [
       "                     Total Missing  %Percentage\n",
       "Item_Store_Returns               0          0.0\n",
       "Store_Type                       0          0.0\n",
       "Store_Location_Type              0          0.0\n",
       "Store_Size                       0          0.0\n",
       "Store_Start_Year                 0          0.0\n",
       "Item_Price                       0          0.0\n",
       "Item_Type                        0          0.0\n",
       "Item_Visibility                  0          0.0\n",
       "Item_Sugar_Content               0          0.0\n",
       "Item_Weight                      0          0.0\n",
       "Item_Store_ID                    0          0.0\n",
       "Store_ID                         0          0.0\n",
       "Item_ID                          0          0.0"
      ]
     },
     "execution_count": 22,
     "metadata": {},
     "output_type": "execute_result"
    }
   ],
   "source": [
    "missing_values(df_train)"
   ]
  },
  {
   "cell_type": "code",
   "execution_count": 77,
   "metadata": {},
   "outputs": [],
   "source": [
    "X = df_train.drop([\"Item_ID\" ,\"Item_Store_ID\", \"Item_Store_Returns\"], axis =1)\n",
    "y = (df_train[\"Item_Store_Returns\"])\n",
    "\n",
    "X_test = df_test.drop([\"Item_ID\", \"Store_ID\" ,\"Item_Store_ID\"], axis = 1)"
   ]
  },
  {
   "cell_type": "code",
   "execution_count": 84,
   "metadata": {},
   "outputs": [],
   "source": [
    "y = (df_train[\"Item_Store_Returns\"])"
   ]
  },
  {
   "cell_type": "code",
   "execution_count": 78,
   "metadata": {},
   "outputs": [],
   "source": [
    "X = X.drop([\"Store_ID\"], axis =1)"
   ]
  },
  {
   "cell_type": "code",
   "execution_count": 79,
   "metadata": {},
   "outputs": [
    {
     "name": "stdout",
     "output_type": "stream",
     "text": [
      "['Item_Sugar_Content', 'Item_Type', 'Store_Size', 'Store_Location_Type', 'Store_Type']\n"
     ]
    }
   ],
   "source": [
    "cat = X.select_dtypes(include = ['object'])\n",
    "catlist = cat.columns.tolist()\n",
    "print(catlist)"
   ]
  },
  {
   "cell_type": "code",
   "execution_count": 76,
   "metadata": {},
   "outputs": [
    {
     "name": "stdout",
     "output_type": "stream",
     "text": [
      "Categories Not in TestItem_Sugar_Content  []\n",
      "Categories Not in TrainItem_Sugar_Content  []\n",
      "**********************************************************************\n",
      "Categories Not in TestItem_Type  []\n",
      "Categories Not in TrainItem_Type  []\n",
      "**********************************************************************\n",
      "Categories Not in TestStore_Size  []\n",
      "Categories Not in TrainStore_Size  []\n",
      "**********************************************************************\n",
      "Categories Not in TestStore_Location_Type  []\n",
      "Categories Not in TrainStore_Location_Type  []\n",
      "**********************************************************************\n",
      "Categories Not in TestStore_Type  []\n",
      "Categories Not in TrainStore_Type  []\n",
      "**********************************************************************\n"
     ]
    }
   ],
   "source": [
    "cat_cols_spec = catlist\n",
    "for col in cat_cols_spec:\n",
    "    df_train_col = df_train[col].unique() #get the unique categories in that particular column\n",
    "    df_test_col = df_test[col].unique()\n",
    "    print('Categories Not in Test' + col + ' ', [i for i in df_train_col if i not in df_test_col])\n",
    "    print('Categories Not in Train' + col + ' ',  [i for i in df_test_col if i not in df_train_col])\n",
    "    print('**'* 35)"
   ]
  },
  {
   "cell_type": "code",
   "execution_count": 80,
   "metadata": {},
   "outputs": [],
   "source": [
    "X_dumy= pd.get_dummies(X)\n",
    "X_test_dummy = pd.get_dummies(X_test)    "
   ]
  },
  {
   "cell_type": "code",
   "execution_count": 81,
   "metadata": {},
   "outputs": [
    {
     "data": {
      "text/plain": [
       "((4990, 35), (3532, 35))"
      ]
     },
     "execution_count": 81,
     "metadata": {},
     "output_type": "execute_result"
    }
   ],
   "source": [
    "X_dumy.shape, X_test_dummy.shape"
   ]
  },
  {
   "cell_type": "code",
   "execution_count": null,
   "metadata": {},
   "outputs": [],
   "source": [
    "#from sklearn.preprocessing import OneHotEncoder\n",
    "#encoder = OneHotEncoder(sparse=False)\n",
    "#df_cat = pd.DataFrame()#we are creating a dataframe for categorical features so we can drop the previous dataframe of categorical features\n",
    "\n",
    "#for i in catlist: #the (i+'_') will add the extra prefix to the name generated by featurehasher\n",
    "    #df_cat = pd.concat([pd.DataFrame(encoder.fit_transform(X[i]).toarray()).add_prefix(i+'_'),df_cat], axis = 1)\n",
    "\n",
    "#df_cat.head()#toarray() transforms the list to array wich is acceptable by pandas dataframe"
   ]
  },
  {
   "cell_type": "code",
   "execution_count": 68,
   "metadata": {},
   "outputs": [],
   "source": [
    "from sklearn.preprocessing import LabelEncoder\n",
    "cat = X.select_dtypes(include = ['object'])\n",
    "catlist = cat.columns.tolist()\n",
    "for i in catlist:\n",
    "    X[i] = LabelEncoder().fit_transform(X[i])\n",
    "    X_test[i] = LabelEncoder().fit_transform(X_test[i])"
   ]
  },
  {
   "cell_type": "code",
   "execution_count": 114,
   "metadata": {},
   "outputs": [
    {
     "name": "stdout",
     "output_type": "stream",
     "text": [
      "root Mean squared error: 2932.654 (650193.599)\n"
     ]
    }
   ],
   "source": [
    "from sklearn.ensemble import GradientBoostingRegressor\n",
    "from numpy import mean\n",
    "from numpy import std\n",
    "from sklearn.ensemble import RandomForestRegressor\n",
    "from sklearn.model_selection import cross_val_score\n",
    "model_1 =RandomForestRegressor(n_estimators = 200, max_depth = 10, random_state = 42) \n",
    "#model_2 = GradientBoostingRegressor(n_estimators = 500, max_depth = 3, learning_rate = 1)\n",
    "#model.fit(X_train, y_train)\n",
    "scores = cross_val_score(model_1, X_dumy, y, scoring='neg_mean_squared_error', cv=5, n_jobs=-1)\n",
    "print('root Mean squared error: %.3f (%.3f)' % (np.sqrt(-1*(mean(scores))), std(scores)))"
   ]
  },
  {
   "cell_type": "code",
   "execution_count": 119,
   "metadata": {},
   "outputs": [
    {
     "name": "stdout",
     "output_type": "stream",
     "text": [
      "root Mean squared error: 2927.206 (659672.103)\n"
     ]
    }
   ],
   "source": [
    "model_2 = GradientBoostingRegressor(n_estimators = 100, max_depth = 3, learning_rate = 0.1, random_state = 42)\n",
    "scores_2 = cross_val_score(model_2, X_dumy, y, scoring='neg_mean_squared_error', cv=5, n_jobs=-1)\n",
    "print('root Mean squared error: %.3f (%.3f)' % (np.sqrt(-1*(mean(scores_2))), std(scores_2)))"
   ]
  },
  {
   "cell_type": "code",
   "execution_count": 99,
   "metadata": {},
   "outputs": [
    {
     "name": "stdout",
     "output_type": "stream",
     "text": [
      "root Mean squared error: 2944.631 (641870.329)\n"
     ]
    }
   ],
   "source": [
    "from xgboost import XGBRegressor\n",
    "xgb_final=XGBRegressor(n_estimators = 10, learning_rate = 0.4, max_depth = 2)\n",
    "scores_3 = cross_val_score(xgb_final, X_dumy, y, scoring='neg_mean_squared_error', cv=5, n_jobs=-1)\n",
    "print('root Mean squared error: %.3f (%.3f)' % (np.sqrt(-1*(mean(scores_3))), std(scores_3)))"
   ]
  },
  {
   "cell_type": "code",
   "execution_count": 107,
   "metadata": {},
   "outputs": [
    {
     "name": "stdout",
     "output_type": "stream",
     "text": [
      "root Mean squared error: 2962.175 (640702.628)\n"
     ]
    }
   ],
   "source": [
    "from sklearn.linear_model import Ridge\n",
    "model_4 = Ridge(alpha = 0.005)\n",
    "scores_4 = cross_val_score(model_4, X_dumy, y, scoring='neg_mean_squared_error', cv=5, n_jobs=-1)\n",
    "print('root Mean squared error: %.3f (%.3f)' % (np.sqrt(-1*(mean(scores_4))), std(scores_4)))"
   ]
  },
  {
   "cell_type": "code",
   "execution_count": 100,
   "metadata": {},
   "outputs": [
    {
     "name": "stdout",
     "output_type": "stream",
     "text": [
      "root Mean squared error: 2962.142 (641614.688)\n"
     ]
    }
   ],
   "source": [
    "from sklearn.preprocessing import StandardScaler#we will also try to use minmax scaler\n",
    "from sklearn.pipeline import Pipeline\n",
    "from sklearn.preprocessing import MinMaxScaler\n",
    "pipe = Pipeline([(\"scaler\", StandardScaler()), (\"model\", model_4)])\n",
    "scores_6 = cross_val_score(pipe, X_dumy, y, scoring='neg_mean_squared_error', cv=5, n_jobs=-1)\n",
    "print('root Mean squared error: %.3f (%.3f)' % (np.sqrt(-1*(mean(scores_6))), std(scores_6)))"
   ]
  },
  {
   "cell_type": "code",
   "execution_count": 89,
   "metadata": {},
   "outputs": [
    {
     "name": "stdout",
     "output_type": "stream",
     "text": [
      "root Mean squared error: 2962.154 (638549.958)\n"
     ]
    }
   ],
   "source": [
    "from sklearn.linear_model import Lasso\n",
    "las=Lasso(alpha=0.001)\n",
    "scores_5 = cross_val_score(las, X_dumy, y, scoring='neg_mean_squared_error', cv=5, n_jobs=-1)\n",
    "print('root Mean squared error: %.3f (%.3f)' % (np.sqrt(-1*(mean(scores_5))), std(scores_5)))"
   ]
  },
  {
   "cell_type": "code",
   "execution_count": 121,
   "metadata": {},
   "outputs": [
    {
     "name": "stdout",
     "output_type": "stream",
     "text": [
      "root Mean squared error: 2922.520 (632929.774)\n"
     ]
    }
   ],
   "source": [
    "from sklearn.ensemble import StackingRegressor\n",
    "my_estimators = [('xgb', xgb_final), ('rf', model_1), ('gb', model_2)]\n",
    "streg= StackingRegressor(estimators = my_estimators, final_estimator = model_4)\n",
    "scores_7 = cross_val_score(streg, X_dumy, y, scoring='neg_mean_squared_error', cv=5, n_jobs=-1)\n",
    "print('root Mean squared error: %.3f (%.3f)' % (np.sqrt(-1*(mean(scores_7))), std(scores_7)))"
   ]
  },
  {
   "cell_type": "code",
   "execution_count": 122,
   "metadata": {},
   "outputs": [],
   "source": [
    "from sklearn.model_selection import train_test_split\n",
    "from sklearn.metrics import mean_absolute_error, make_scorer, mean_squared_error\n",
    "X_train, X_val, y_train, y_val = train_test_split(X_dumy, y, test_size = 0.2, random_state = 0)\n",
    "model_4.fit(X_train, y_train)\n",
    "pred_1 = model_4.predict(X_val)"
   ]
  },
  {
   "cell_type": "code",
   "execution_count": 124,
   "metadata": {},
   "outputs": [
    {
     "data": {
      "text/plain": [
       "2991.06928859693"
      ]
     },
     "execution_count": 124,
     "metadata": {},
     "output_type": "execute_result"
    }
   ],
   "source": [
    "np.sqrt(mean_squared_error(y_val, pred_1))"
   ]
  },
  {
   "cell_type": "code",
   "execution_count": 125,
   "metadata": {},
   "outputs": [
    {
     "name": "stdout",
     "output_type": "stream",
     "text": [
      "[20:19:06] WARNING: src/objective/regression_obj.cu:152: reg:linear is now deprecated in favor of reg:squarederror.\n",
      "[20:19:57] WARNING: src/objective/regression_obj.cu:152: reg:linear is now deprecated in favor of reg:squarederror.\n",
      "[20:19:58] WARNING: src/objective/regression_obj.cu:152: reg:linear is now deprecated in favor of reg:squarederror.\n",
      "[20:20:00] WARNING: src/objective/regression_obj.cu:152: reg:linear is now deprecated in favor of reg:squarederror.\n",
      "[20:20:02] WARNING: src/objective/regression_obj.cu:152: reg:linear is now deprecated in favor of reg:squarederror.\n",
      "[20:20:03] WARNING: src/objective/regression_obj.cu:152: reg:linear is now deprecated in favor of reg:squarederror.\n"
     ]
    }
   ],
   "source": [
    "## we fit on the entire data this time\n",
    "streg.fit(X_dumy, y)\n",
    "## we are now making prediction based on the \"test dataset\" stores with variable name \"X_test\" (if lost check the celss above)\n",
    "pred_2 = streg.predict(X_test_dummy)\n",
    "## so create a dictionary with the \"user_id\" from the \"test_dataset\" and the new predictions \"pred\"\n",
    "## we trun the dictionary into a pandas dataframe using \"pd.DataFrame()\"\n",
    "## we then export the dataframe into a csv file using \".to_csv\"\n",
    "pd.DataFrame({\"Item_Store_ID\": df_test[\"Item_Store_ID\"], \"Item_Store_Returns\": pred_2}).to_csv(\"dsn-submission_2.csv\", index = False)"
   ]
  },
  {
   "cell_type": "code",
   "execution_count": 126,
   "metadata": {},
   "outputs": [],
   "source": [
    "submit = pd.read_csv(\"dsn-submission_2.csv\")"
   ]
  },
  {
   "cell_type": "code",
   "execution_count": 127,
   "metadata": {},
   "outputs": [
    {
     "data": {
      "text/html": [
       "<div>\n",
       "<style scoped>\n",
       "    .dataframe tbody tr th:only-of-type {\n",
       "        vertical-align: middle;\n",
       "    }\n",
       "\n",
       "    .dataframe tbody tr th {\n",
       "        vertical-align: top;\n",
       "    }\n",
       "\n",
       "    .dataframe thead th {\n",
       "        text-align: right;\n",
       "    }\n",
       "</style>\n",
       "<table border=\"1\" class=\"dataframe\">\n",
       "  <thead>\n",
       "    <tr style=\"text-align: right;\">\n",
       "      <th></th>\n",
       "      <th>Item_Store_ID</th>\n",
       "      <th>Item_Store_Returns</th>\n",
       "    </tr>\n",
       "  </thead>\n",
       "  <tbody>\n",
       "    <tr>\n",
       "      <th>0</th>\n",
       "      <td>DRA59_BABATUNJI010</td>\n",
       "      <td>1297.965433</td>\n",
       "    </tr>\n",
       "    <tr>\n",
       "      <th>1</th>\n",
       "      <td>DRA59_BABATUNJI013</td>\n",
       "      <td>8002.651962</td>\n",
       "    </tr>\n",
       "    <tr>\n",
       "      <th>2</th>\n",
       "      <td>DRB01_BABATUNJI013</td>\n",
       "      <td>7870.287051</td>\n",
       "    </tr>\n",
       "    <tr>\n",
       "      <th>3</th>\n",
       "      <td>DRB13_BABATUNJI010</td>\n",
       "      <td>1060.718517</td>\n",
       "    </tr>\n",
       "    <tr>\n",
       "      <th>4</th>\n",
       "      <td>DRB13_BABATUNJI013</td>\n",
       "      <td>7798.670430</td>\n",
       "    </tr>\n",
       "  </tbody>\n",
       "</table>\n",
       "</div>"
      ],
      "text/plain": [
       "        Item_Store_ID  Item_Store_Returns\n",
       "0  DRA59_BABATUNJI010         1297.965433\n",
       "1  DRA59_BABATUNJI013         8002.651962\n",
       "2  DRB01_BABATUNJI013         7870.287051\n",
       "3  DRB13_BABATUNJI010         1060.718517\n",
       "4  DRB13_BABATUNJI013         7798.670430"
      ]
     },
     "execution_count": 127,
     "metadata": {},
     "output_type": "execute_result"
    }
   ],
   "source": [
    "submit.head()"
   ]
  },
  {
   "cell_type": "code",
   "execution_count": null,
   "metadata": {},
   "outputs": [],
   "source": []
  }
 ],
 "metadata": {
  "kernelspec": {
   "display_name": "Python 3",
   "language": "python",
   "name": "python3"
  },
  "language_info": {
   "codemirror_mode": {
    "name": "ipython",
    "version": 3
   },
   "file_extension": ".py",
   "mimetype": "text/x-python",
   "name": "python",
   "nbconvert_exporter": "python",
   "pygments_lexer": "ipython3",
   "version": "3.7.6"
  }
 },
 "nbformat": 4,
 "nbformat_minor": 4
}
